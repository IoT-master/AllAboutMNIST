{
 "cells": [
  {
   "cell_type": "markdown",
   "source": [
    "MNIST is the hello world in the Machine Learning world. In order to understand the overall concept, we need a \"simple\" project to work on which develope the baseline (and without getting into the griddy details). The most time you will spend most of your timefinessing with your given datasets. Having either you have product knowledge or program knowledge will help you succeed in Machine Learning."
   ],
   "metadata": {}
  },
  {
   "cell_type": "markdown",
   "source": [
    "MNIST is easily downloading from the predefine dataset. As a note, the first parameter to the call is the relative directory from the current working directory. In this case, a folder called MNIST will be build in the current working directory."
   ],
   "metadata": {}
  },
  {
   "cell_type": "code",
   "execution_count": 1,
   "source": [
    "import torch\r\n",
    "from torchvision import transforms, datasets\r\n",
    "\r\n",
    "train = datasets.MNIST(\"\", train=True, download=True, transform=transforms.Compose([transforms.ToTensor()]))\r\n",
    "test = datasets.MNIST(\"\", train=False, download=True, transform=transforms.Compose([transforms.ToTensor()]))"
   ],
   "outputs": [
    {
     "output_type": "stream",
     "name": "stderr",
     "text": [
      "c:\\CodingProjects\\HelloML\\.venv\\lib\\site-packages\\torchvision\\datasets\\mnist.py:498: UserWarning: The given NumPy array is not writeable, and PyTorch does not support non-writeable tensors. This means you can write to the underlying (supposedly non-writeable) NumPy array using the tensor. You may want to copy the array to protect its data or make it writeable before converting it to a tensor. This type of warning will be suppressed for the rest of this program. (Triggered internally at  ..\\torch\\csrc\\utils\\tensor_numpy.cpp:180.)\n",
      "  return torch.from_numpy(parsed.astype(m[2], copy=False)).view(*s)\n"
     ]
    }
   ],
   "metadata": {}
  },
  {
   "cell_type": "markdown",
   "source": [
    "Let's look at the data of the training set."
   ],
   "metadata": {}
  },
  {
   "cell_type": "code",
   "execution_count": 9,
   "source": [
    "data = train[0]\r\n",
    "print(type(data), len(data))\r\n",
    "print(data[0].shape, data[1])"
   ],
   "outputs": [
    {
     "output_type": "stream",
     "name": "stdout",
     "text": [
      "<class 'tuple'> 2\n",
      "torch.Size([1, 28, 28]) 5\n"
     ]
    }
   ],
   "metadata": {}
  },
  {
   "cell_type": "markdown",
   "source": [
    "The train variable contains an iterable composed of a tuple, which is composed of a torch tensor and an integer, with has a size of [1,28,28] and number 5 respectively. The tensor will vary based on the data you are using, mainly image data. Position 0, represents the intensity of the pixel. If it's gray (grey?) scale, it is 1. If it's RGB (red, green, blue), it will be 3. If it happens to have both gray and RGB, it will be 4! The last two positions, (1 and 2), are the position values (X, Y). In this case, this image is a 28 by 28 pixel in grayscale."
   ],
   "metadata": {}
  },
  {
   "cell_type": "markdown",
   "source": [
    "What makes MNIST easy to train is the simplicity of the dataset. The trained data in this MNIST dataset is normalized. This is to lessen the \"exploding and vanishing gradient\" during the gradient descent (training of the model). When working on an Machine Learning project, the dataset should be a balanced, meaning that all the outcomes in the dataset should have roughly equal number of samples of the possible solution."
   ],
   "metadata": {}
  }
 ],
 "metadata": {
  "orig_nbformat": 4,
  "language_info": {
   "name": "python",
   "version": "3.9.6",
   "mimetype": "text/x-python",
   "codemirror_mode": {
    "name": "ipython",
    "version": 3
   },
   "pygments_lexer": "ipython3",
   "nbconvert_exporter": "python",
   "file_extension": ".py"
  },
  "kernelspec": {
   "name": "python3",
   "display_name": "Python 3.9.6 64-bit ('.venv')"
  },
  "interpreter": {
   "hash": "85f1beb6e7f11ea7e0b71be2323e8065ee9ad894639752b420645fc8f1952523"
  }
 },
 "nbformat": 4,
 "nbformat_minor": 2
}